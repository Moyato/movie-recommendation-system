{
 "cells": [
  {
   "cell_type": "code",
   "execution_count": 3,
   "id": "82bc03f1",
   "metadata": {},
   "outputs": [],
   "source": [
    "import sqlite3 as sql"
   ]
  },
  {
   "cell_type": "code",
   "execution_count": 5,
   "id": "a62ddfe1",
   "metadata": {},
   "outputs": [
    {
     "name": "stdout",
     "output_type": "stream",
     "text": [
      "database connected sucessfully\n"
     ]
    }
   ],
   "source": [
    "connect = sql.connect('test.db')\n",
    "print ('database connected sucessfully')"
   ]
  },
  {
   "cell_type": "code",
   "execution_count": 14,
   "id": "eaaf9d4e",
   "metadata": {},
   "outputs": [
    {
     "name": "stdout",
     "output_type": "stream",
     "text": [
      "values inserted into the movie recommendation table\n"
     ]
    }
   ],
   "source": [
    "connect.execute(\"INSERT INTO MOVIERECOMMENDATION (ID, NAME, MOVIENAME, GENRE, RATING, DATERELEASED) \\\n",
    "                VALUES(5, 'Toliat', 'Anikulapo', 'Drama', 3, '02/09/2022')\");\n",
    "connect.execute(\"INSERT INTO MOVIERECOMMENDATION (ID, NAME, MOVIENAME, GENRE, RATING, DATERELEASED) \\\n",
    "                VALUES(6, 'Moyato', 'Gone girl', 'Thriller', 4, '02/09/2021')\");\n",
    "connect.execute(\"INSERT INTO MOVIERECOMMENDATION (ID, NAME, MOVIENAME, GENRE, RATING, DATERELEASED) \\\n",
    "                VALUES(7, 'Elijah', 'Thor', 'Action', 4, '02/06/2022')\");\n",
    "connect.execute(\"INSERT INTO MOVIERECOMMENDATION (ID, NAME, MOVIENAME, GENRE, RATING, DATERELEASED) \\\n",
    "                VALUES(8, 'Paul', 'The lost city', 'Comedy', 4, '02/09/2020')\");\n",
    "connect.commit()\n",
    "print('values inserted into the movie recommendation table')     \n",
    "#connect.close()"
   ]
  },
  {
   "cell_type": "code",
   "execution_count": 15,
   "id": "597b4734",
   "metadata": {},
   "outputs": [],
   "source": [
    "GETALLVALUES = connect.execute(\"SELECT ID, NAME, MOVIENAME, GENRE, RATING, DATERELEASED FROM MOVIERECOMMENDATION\")"
   ]
  },
  {
   "cell_type": "code",
   "execution_count": 16,
   "id": "5a15e5c1",
   "metadata": {},
   "outputs": [
    {
     "data": {
      "text/plain": [
       "[(1, 'Toliat', 'Anikulapo', 'Drama', '3', '02/09/2022'),\n",
       " (5, 'Toliat', 'Anikulapo', 'Drama', '3', '02/09/2022'),\n",
       " (6, 'Moyato', 'Gone girl', 'Thriller', '4', '02/09/2021'),\n",
       " (7, 'Elijah', 'Thor', 'Action', '4', '02/06/2022'),\n",
       " (8, 'Paul', 'The lost city', 'Comedy', '4', '02/09/2020')]"
      ]
     },
     "execution_count": 16,
     "metadata": {},
     "output_type": "execute_result"
    }
   ],
   "source": [
    "GETALLVALUES.fetchall()"
   ]
  },
  {
   "cell_type": "code",
   "execution_count": 17,
   "id": "76b9fa0a",
   "metadata": {},
   "outputs": [],
   "source": [
    "#for val in GETALLvalues.fetchall():\n",
    "# print(val)"
   ]
  },
  {
   "cell_type": "code",
   "execution_count": 18,
   "id": "192f59be",
   "metadata": {},
   "outputs": [],
   "source": [
    "GETRATINGSGREATERTHANTHREE = connect.execute(\"SELECT ID, NAME, MOVIENAME, GENRE, RATING, DATERELEASED FROM MOVIERECOMMENDATION WHERE RATING > 3\")"
   ]
  },
  {
   "cell_type": "code",
   "execution_count": 21,
   "id": "3620940b",
   "metadata": {},
   "outputs": [
    {
     "data": {
      "text/plain": [
       "[(6, 'Moyato', 'Gone girl', 'Thriller', '4', '02/09/2021'),\n",
       " (7, 'Elijah', 'Thor', 'Action', '4', '02/06/2022'),\n",
       " (8, 'Paul', 'The lost city', 'Comedy', '4', '02/09/2020')]"
      ]
     },
     "execution_count": 21,
     "metadata": {},
     "output_type": "execute_result"
    }
   ],
   "source": [
    "GETRATINGSGREATERTHANTHREE.fetchall()"
   ]
  },
  {
   "cell_type": "code",
   "execution_count": 29,
   "id": "72738acb",
   "metadata": {},
   "outputs": [],
   "source": [
    "GETPAUL = connect.execute(\"SELECT * FROM MOVIERECOMMENDATION WHERE NAME ='Paul'\")"
   ]
  },
  {
   "cell_type": "code",
   "execution_count": 30,
   "id": "c0f04e39",
   "metadata": {},
   "outputs": [
    {
     "data": {
      "text/plain": [
       "[(8, 'Paul', 'The lost city', 'Comedy', '4', '02/09/2020')]"
      ]
     },
     "execution_count": 30,
     "metadata": {},
     "output_type": "execute_result"
    }
   ],
   "source": [
    "GETPAUL.fetchall()"
   ]
  },
  {
   "cell_type": "code",
   "execution_count": 31,
   "id": "4bcdf6ea",
   "metadata": {},
   "outputs": [],
   "source": [
    "UPDATEANIKULAPORATING = connect.execute(\"UPDATE MOVIERECOMMENDATION SET RATING = 2 WHERE ID = 1\")"
   ]
  },
  {
   "cell_type": "code",
   "execution_count": 32,
   "id": "36956170",
   "metadata": {},
   "outputs": [
    {
     "data": {
      "text/plain": [
       "[]"
      ]
     },
     "execution_count": 32,
     "metadata": {},
     "output_type": "execute_result"
    }
   ],
   "source": [
    "UPDATEANIKULAPORATING.fetchall()"
   ]
  },
  {
   "cell_type": "code",
   "execution_count": 33,
   "id": "05e7e428",
   "metadata": {},
   "outputs": [],
   "source": [
    "GETALLVALUES = connect.execute(\"SELECT * FROM MOVIERECOMMENDATION\")"
   ]
  },
  {
   "cell_type": "code",
   "execution_count": 34,
   "id": "22ea789f",
   "metadata": {},
   "outputs": [
    {
     "data": {
      "text/plain": [
       "[(1, 'Toliat', 'Anikulapo', 'Drama', '2', '02/09/2022'),\n",
       " (5, 'Toliat', 'Anikulapo', 'Drama', '3', '02/09/2022'),\n",
       " (6, 'Moyato', 'Gone girl', 'Thriller', '4', '02/09/2021'),\n",
       " (7, 'Elijah', 'Thor', 'Action', '4', '02/06/2022'),\n",
       " (8, 'Paul', 'The lost city', 'Comedy', '4', '02/09/2020')]"
      ]
     },
     "execution_count": 34,
     "metadata": {},
     "output_type": "execute_result"
    }
   ],
   "source": [
    "GETALLVALUES.fetchall()"
   ]
  },
  {
   "cell_type": "code",
   "execution_count": 35,
   "id": "2ed1faa3",
   "metadata": {},
   "outputs": [
    {
     "name": "stdout",
     "output_type": "stream",
     "text": [
      "Row with id=1 has been deleted\n"
     ]
    }
   ],
   "source": [
    "DELETEANONYMOUS = connect.execute(\"DELETE FROM MOVIERECOMMENDATION WHERE ID = 1 \").fetchall()\n",
    "print(\"Row with id=1 has been deleted\")"
   ]
  },
  {
   "cell_type": "code",
   "execution_count": 36,
   "id": "b69b8d70",
   "metadata": {},
   "outputs": [
    {
     "data": {
      "text/plain": [
       "[(5, 'Toliat', 'Anikulapo', 'Drama', '3', '02/09/2022'),\n",
       " (6, 'Moyato', 'Gone girl', 'Thriller', '4', '02/09/2021'),\n",
       " (7, 'Elijah', 'Thor', 'Action', '4', '02/06/2022'),\n",
       " (8, 'Paul', 'The lost city', 'Comedy', '4', '02/09/2020')]"
      ]
     },
     "execution_count": 36,
     "metadata": {},
     "output_type": "execute_result"
    }
   ],
   "source": [
    "connect.execute(\"SELECT * FROM MOVIERECOMMENDATION\").fetchall()"
   ]
  },
  {
   "cell_type": "code",
   "execution_count": null,
   "id": "4e27e483",
   "metadata": {},
   "outputs": [],
   "source": []
  }
 ],
 "metadata": {
  "kernelspec": {
   "display_name": "Python 3 (ipykernel)",
   "language": "python",
   "name": "python3"
  },
  "language_info": {
   "codemirror_mode": {
    "name": "ipython",
    "version": 3
   },
   "file_extension": ".py",
   "mimetype": "text/x-python",
   "name": "python",
   "nbconvert_exporter": "python",
   "pygments_lexer": "ipython3",
   "version": "3.10.6"
  }
 },
 "nbformat": 4,
 "nbformat_minor": 5
}

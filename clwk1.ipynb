{
 "cells": [
  {
   "cell_type": "code",
   "execution_count": 1,
   "id": "598dbfb9",
   "metadata": {},
   "outputs": [],
   "source": [
    "import sqlite3 as sql\n"
   ]
  },
  {
   "cell_type": "code",
   "execution_count": 2,
   "id": "f8ffcdfd",
   "metadata": {},
   "outputs": [],
   "source": [
    "connect = sql.connect(\"test.db\")"
   ]
  },
  {
   "cell_type": "code",
   "execution_count": 3,
   "id": "af74baa3",
   "metadata": {},
   "outputs": [
    {
     "data": {
      "text/plain": [
       "<sqlite3.Connection at 0x2bdb6590d40>"
      ]
     },
     "execution_count": 3,
     "metadata": {},
     "output_type": "execute_result"
    }
   ],
   "source": [
    "connect"
   ]
  },
  {
   "cell_type": "code",
   "execution_count": 4,
   "id": "95dce71d",
   "metadata": {},
   "outputs": [
    {
     "name": "stdout",
     "output_type": "stream",
     "text": [
      "Table successfully created\n"
     ]
    }
   ],
   "source": [
    "connect.execute('''CREATE TABLE MOVIERECOMMENDATION\n",
    "               (ID INT PRIMARY KEY NOT NULL,\n",
    "                NAME TEXT NOT NULL,\n",
    "                MOVIENAME TEXT NOT NULL,\n",
    "                GENRE TEXT NOT NULL,\n",
    "                RATING TEXT NOT NULL,\n",
    "                DATERELEASED TEXT NOT NULL\n",
    "               )''')\n",
    "print(\"Table successfully created\")\n"
   ]
  },
  {
   "cell_type": "code",
   "execution_count": null,
   "id": "4b5bcb92",
   "metadata": {},
   "outputs": [],
   "source": []
  },
  {
   "cell_type": "code",
   "execution_count": null,
   "id": "48ebc484",
   "metadata": {},
   "outputs": [],
   "source": []
  }
 ],
 "metadata": {
  "kernelspec": {
   "display_name": "Python 3 (ipykernel)",
   "language": "python",
   "name": "python3"
  },
  "language_info": {
   "codemirror_mode": {
    "name": "ipython",
    "version": 3
   },
   "file_extension": ".py",
   "mimetype": "text/x-python",
   "name": "python",
   "nbconvert_exporter": "python",
   "pygments_lexer": "ipython3",
   "version": "3.10.6"
  }
 },
 "nbformat": 4,
 "nbformat_minor": 5
}
